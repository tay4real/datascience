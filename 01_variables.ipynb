{
  "cells": [
    {
      "cell_type": "markdown",
      "metadata": {
        "id": "view-in-github",
        "colab_type": "text"
      },
      "source": [
        "<a href=\"https://colab.research.google.com/github/tay4real/datascience/blob/main/01_variables.ipynb\" target=\"_parent\"><img src=\"https://colab.research.google.com/assets/colab-badge.svg\" alt=\"Open In Colab\"/></a>"
      ]
    },
    {
      "cell_type": "markdown",
      "metadata": {
        "id": "bbc-lh9g9Sn-"
      },
      "source": [
        "Printed copies of *Elements of Data Science* are available now, with a **full color interior**, from [Lulu.com](https://www.lulu.com/shop/allen-downey/elements-of-data-science/paperback/product-9dyrwn.html)."
      ]
    },
    {
      "cell_type": "markdown",
      "metadata": {
        "tags": [],
        "id": "nGTWMGTt9SoA"
      },
      "source": [
        "# Welcome\n",
        "\n",
        "This is the Jupyter notebook for Chapter 1 of [*Elements of Data Science*](https://greenteapress.com/wp/elements-of-data-science), by Allen B. Downey.\n",
        "\n",
        "If you are not familiar with Jupyter notebooks,\n",
        "[click here for a short introduction](https://colab.research.google.com/github/AllenDowney/ElementsOfDataScience/blob/v1/jupyter_intro.ipynb).\n",
        "\n",
        "Then, if you are not already running this notebook on Colab, [click here to run this notebook on Colab](https://colab.research.google.com/github/AllenDowney/ElementsOfDataScience/blob/v1/01_variables.ipynb)."
      ]
    },
    {
      "cell_type": "markdown",
      "metadata": {
        "tags": [],
        "id": "yjujFgph9SoE"
      },
      "source": [
        "The following cell downloads a file and runs some code that is used specifically for this book.\n",
        "You don't have to understand this code yet, but you should run it before you do anything else in this notebook.\n",
        "Remember that you can run the code by selecting the cell and pressing the play button (a triangle in a circle) or hold down `Shift` and press `Enter`."
      ]
    },
    {
      "cell_type": "code",
      "execution_count": 1,
      "metadata": {
        "tags": [],
        "colab": {
          "base_uri": "https://localhost:8080/"
        },
        "id": "rY9NrTDl9SoF",
        "outputId": "0c91c9d2-617f-4b38-ee3b-4b3dfdd5e131"
      },
      "outputs": [
        {
          "output_type": "stream",
          "name": "stdout",
          "text": [
            "Downloaded utils.py\n"
          ]
        }
      ],
      "source": [
        "from os.path import basename, exists\n",
        "\n",
        "def download(url):\n",
        "    filename = basename(url)\n",
        "    if not exists(filename):\n",
        "        from urllib.request import urlretrieve\n",
        "\n",
        "        local, _ = urlretrieve(url, filename)\n",
        "        print(\"Downloaded \" + str(local))\n",
        "    return filename\n",
        "\n",
        "download('https://raw.githubusercontent.com/AllenDowney/ElementsOfDataScience/v1/utils.py')\n",
        "\n",
        "import utils"
      ]
    },
    {
      "cell_type": "markdown",
      "metadata": {
        "id": "T1hoB2Bb9SoH"
      },
      "source": [
        "# Variables and Values\n",
        "\n",
        "The topics in this chapter are:\n",
        "\n",
        "* Basic programming features in Python: variables and values.\n",
        "\n",
        "* Translating formulas from math notation to Python.\n",
        "\n",
        "You don't need a lot of math to do data science, but and the end of this chapter I'll review one topic that comes up a lot: logarithms."
      ]
    },
    {
      "cell_type": "markdown",
      "metadata": {
        "id": "jw9xkB1X9SoH"
      },
      "source": [
        "## Numbers\n",
        "\n",
        "Python provides tools for working with many kinds of data, including numbers, words, dates, times, and locations (latitude and longitude).\n",
        "Let's start with numbers.  Python can work with several types of numbers, but the two most common are:\n",
        "\n",
        "* `int`, which represents integer values like `3`, and\n",
        "\n",
        "* `float`, which represents numbers that have a fraction part, like `3.14159`.\n",
        "\n",
        "Most often, we use `int` to represent counts and `float` to represent measurements.\n",
        "\n",
        "Here's an example of an `int`:"
      ]
    },
    {
      "cell_type": "code",
      "execution_count": 2,
      "metadata": {
        "colab": {
          "base_uri": "https://localhost:8080/"
        },
        "id": "nTE5TgjR9SoI",
        "outputId": "3781288a-7082-4987-dd79-06c7808e6790"
      },
      "outputs": [
        {
          "output_type": "execute_result",
          "data": {
            "text/plain": [
              "3"
            ]
          },
          "metadata": {},
          "execution_count": 2
        }
      ],
      "source": [
        "3"
      ]
    },
    {
      "cell_type": "markdown",
      "metadata": {
        "id": "xINyjNmY9SoJ"
      },
      "source": [
        "When you run a cell that contains a value like this, Jupyter displays the value.\n",
        "\n",
        "Here's an example of a `float`:"
      ]
    },
    {
      "cell_type": "code",
      "execution_count": 3,
      "metadata": {
        "colab": {
          "base_uri": "https://localhost:8080/"
        },
        "id": "A2cPRC5a9SoJ",
        "outputId": "6a3b0287-df38-401b-f56a-bc1efdf01372"
      },
      "outputs": [
        {
          "output_type": "execute_result",
          "data": {
            "text/plain": [
              "3.14159"
            ]
          },
          "metadata": {},
          "execution_count": 3
        }
      ],
      "source": [
        "3.14159"
      ]
    },
    {
      "cell_type": "markdown",
      "metadata": {
        "id": "srnlp7ey9SoK"
      },
      "source": [
        " `float` is short for \"floating-point\", which is the name for the way these numbers are stored.\n",
        "Floating-point numbers can also be written in a format similar to scientific notation:"
      ]
    },
    {
      "cell_type": "code",
      "execution_count": null,
      "metadata": {
        "id": "9kuJydRW9SoK"
      },
      "outputs": [],
      "source": [
        "1.2345e3"
      ]
    },
    {
      "cell_type": "markdown",
      "metadata": {
        "id": "fFP2GMPr9SoL"
      },
      "source": [
        "This value is equivalent to $1.2345 \\times 10^{3}$, so the result is `1234.5`.\n",
        "The `e` in `1.2345e3` stands for \"exponent\"."
      ]
    },
    {
      "cell_type": "markdown",
      "metadata": {
        "tags": [],
        "id": "eokUf8PR9SoL"
      },
      "source": [
        "If you are not familiar with scientific notation, you can read about it at <https://en.wikipedia.org/wiki/Scientific_notation>."
      ]
    },
    {
      "cell_type": "markdown",
      "metadata": {
        "id": "XMjk_hyu9SoL"
      },
      "source": [
        "## Arithmetic\n",
        "\n",
        "Python provides operators that perform arithmetic.  The operators that perform addition and subtraction are `+` and `-`:"
      ]
    },
    {
      "cell_type": "code",
      "execution_count": 4,
      "metadata": {
        "colab": {
          "base_uri": "https://localhost:8080/"
        },
        "id": "vgP31dr29SoM",
        "outputId": "7aba9c6d-b02d-4617-f25b-91e3cecf69d7"
      },
      "outputs": [
        {
          "output_type": "execute_result",
          "data": {
            "text/plain": [
              "4"
            ]
          },
          "metadata": {},
          "execution_count": 4
        }
      ],
      "source": [
        "3 + 2 - 1"
      ]
    },
    {
      "cell_type": "markdown",
      "metadata": {
        "id": "jQRVqVnY9SoM"
      },
      "source": [
        "The operators that perform multiplication and division are `*` and `/`:"
      ]
    },
    {
      "cell_type": "code",
      "execution_count": 5,
      "metadata": {
        "colab": {
          "base_uri": "https://localhost:8080/"
        },
        "id": "VdrnJ-qT9SoM",
        "outputId": "a84ecd0f-2fb7-4f93-b027-77b7de77a130"
      },
      "outputs": [
        {
          "output_type": "execute_result",
          "data": {
            "text/plain": [
              "6"
            ]
          },
          "metadata": {},
          "execution_count": 5
        }
      ],
      "source": [
        "2 * 3"
      ]
    },
    {
      "cell_type": "code",
      "execution_count": 6,
      "metadata": {
        "colab": {
          "base_uri": "https://localhost:8080/"
        },
        "id": "iN1FMacL9SoM",
        "outputId": "2b30c79d-e833-4e94-a149-ccf82fa6b389"
      },
      "outputs": [
        {
          "output_type": "execute_result",
          "data": {
            "text/plain": [
              "0.6666666666666666"
            ]
          },
          "metadata": {},
          "execution_count": 6
        }
      ],
      "source": [
        "2 / 3"
      ]
    },
    {
      "cell_type": "markdown",
      "metadata": {
        "id": "I7i92PI99SoN"
      },
      "source": [
        "And the operator for exponentiation is `**`:"
      ]
    },
    {
      "cell_type": "code",
      "execution_count": 7,
      "metadata": {
        "colab": {
          "base_uri": "https://localhost:8080/"
        },
        "id": "uI-2hdQW9SoN",
        "outputId": "2f3657bc-0a26-4ab4-d2db-93442dfb18f5"
      },
      "outputs": [
        {
          "output_type": "execute_result",
          "data": {
            "text/plain": [
              "8"
            ]
          },
          "metadata": {},
          "execution_count": 7
        }
      ],
      "source": [
        "2 ** 3"
      ]
    },
    {
      "cell_type": "markdown",
      "metadata": {
        "id": "I4c2PzqN9SoN"
      },
      "source": [
        "Unlike math notation, Python does not allow implicit multiplication.  For example, in math notation, if you write $3 (2 + 1)$, that's understood to be the same as $3 \\times (2+ 1)$.\n",
        "In Python, that's an error."
      ]
    },
    {
      "cell_type": "markdown",
      "metadata": {
        "id": "jH5A021-9SoN"
      },
      "source": [
        "NOTE: The following cell uses `%%expect`, which is a Jupyter \"magic command\" that means we expect the code in this cell to produce an error."
      ]
    },
    {
      "cell_type": "markdown",
      "metadata": {
        "tags": [],
        "id": "NEjB-eX39SoO"
      },
      "source": [
        "For more about this magic command, see the\n",
        "[Jupyter notebook introduction](https://colab.research.google.com/github/AllenDowney/ThinkPython/blob/v3/chapters/jupyter_intro.ipynb)."
      ]
    },
    {
      "cell_type": "code",
      "execution_count": 8,
      "metadata": {
        "tags": [
          "raises-exception"
        ],
        "colab": {
          "base_uri": "https://localhost:8080/",
          "height": 106
        },
        "id": "yHxn_6DV9SoO",
        "outputId": "e3e9b2ee-548c-412e-c03c-36b1b74f60f0"
      },
      "outputs": [
        {
          "output_type": "stream",
          "name": "stderr",
          "text": [
            "<>:1: SyntaxWarning: 'int' object is not callable; perhaps you missed a comma?\n",
            "/tmp/ipython-input-8-978361997.py:1: SyntaxWarning: 'int' object is not callable; perhaps you missed a comma?\n",
            "  3 (2 + 1)\n"
          ]
        },
        {
          "output_type": "error",
          "ename": "TypeError",
          "evalue": "'int' object is not callable",
          "traceback": [
            "\u001b[0;31mTypeError\u001b[0m\u001b[0;31m:\u001b[0m 'int' object is not callable\n"
          ]
        }
      ],
      "source": [
        "%%expect TypeError\n",
        "\n",
        "3 (2 + 1)"
      ]
    },
    {
      "cell_type": "markdown",
      "metadata": {
        "id": "_88pycF49SoO"
      },
      "source": [
        "In this example, the error message is not very helpful, which is why I am warning you now.\n",
        "If you want to multiply, you have to use the `*` operator."
      ]
    },
    {
      "cell_type": "markdown",
      "metadata": {
        "id": "ntf3naw59SoO"
      },
      "source": [
        "The arithmetic operators follow the rules of precedence you might have learned as \"PEMDAS\":\n",
        "\n",
        "* Parentheses before\n",
        "* Exponentiation before\n",
        "* Multiplication and division before\n",
        "* Addition and subtraction.\n",
        "\n",
        "So in this expression:"
      ]
    },
    {
      "cell_type": "code",
      "execution_count": 9,
      "metadata": {
        "colab": {
          "base_uri": "https://localhost:8080/"
        },
        "id": "xtcdCo3U9SoO",
        "outputId": "c5ccaef0-c2db-44eb-9c77-174a985fc4d8"
      },
      "outputs": [
        {
          "output_type": "execute_result",
          "data": {
            "text/plain": [
              "7"
            ]
          },
          "metadata": {},
          "execution_count": 9
        }
      ],
      "source": [
        "1 + 2 * 3"
      ]
    },
    {
      "cell_type": "markdown",
      "metadata": {
        "id": "4NuP1Pfn9SoO"
      },
      "source": [
        "The multiplication happens first.  If that's not what you want, you can use parentheses to make the order of operations explicit:"
      ]
    },
    {
      "cell_type": "code",
      "execution_count": 10,
      "metadata": {
        "colab": {
          "base_uri": "https://localhost:8080/"
        },
        "id": "SmsvpmeF9SoP",
        "outputId": "374874b2-3a28-4b71-aef8-f28eac356596"
      },
      "outputs": [
        {
          "output_type": "execute_result",
          "data": {
            "text/plain": [
              "9"
            ]
          },
          "metadata": {},
          "execution_count": 10
        }
      ],
      "source": [
        "(1 + 2) * 3"
      ]
    },
    {
      "cell_type": "markdown",
      "metadata": {
        "id": "vfGv1N9F9SoP"
      },
      "source": [
        "**Exercise:** Write a Python expression that raises `1+2` to the power `3*4`.  The answer should be `531441`."
      ]
    },
    {
      "cell_type": "markdown",
      "metadata": {
        "tags": [],
        "id": "CNrUh0is9SoP"
      },
      "source": [
        "Note: in the cell below, it should say\n",
        "\n",
        "```\n",
        "# Solution goes here\n",
        "```\n",
        "\n",
        "Lines like this that begin with `#` are \"comments\" -- they provide information, but they have no effect when the program runs.\n",
        "When you do this exercise, you should delete the comment and replace it with your solution."
      ]
    },
    {
      "cell_type": "code",
      "execution_count": 11,
      "metadata": {
        "colab": {
          "base_uri": "https://localhost:8080/"
        },
        "id": "j2Fvprhy9SoP",
        "outputId": "f8d4b85b-0e98-4c3c-865f-03d7c3961e38"
      },
      "outputs": [
        {
          "output_type": "execute_result",
          "data": {
            "text/plain": [
              "531441"
            ]
          },
          "metadata": {},
          "execution_count": 11
        }
      ],
      "source": [
        "# Solution goes here\n",
        "(1 + 2) ** (3*4)"
      ]
    },
    {
      "cell_type": "markdown",
      "metadata": {
        "id": "_zWOvtZo9SoP"
      },
      "source": [
        "## Math Functions\n",
        "\n",
        "Python provides functions that compute mathematical functions like `sin` and `cos`, `exp` and `log`.\n",
        "However, they are not part of Python itself, but they are available from a **library**, which is a collection of values and functions.\n",
        "The one we'll use is called NumPy, which stands for \"Numerical Python\", and is pronounced \"num pie\".\n",
        "Before you can use a library, you have to **import** it.\n",
        "Here's how we import NumPy:  "
      ]
    },
    {
      "cell_type": "code",
      "execution_count": null,
      "metadata": {
        "id": "aiuPiRlC9SoQ"
      },
      "outputs": [],
      "source": [
        "import numpy as np"
      ]
    },
    {
      "cell_type": "markdown",
      "metadata": {
        "id": "4oQDovgL9SoQ"
      },
      "source": [
        "This line of code imports `numpy` as `np`, which means we can refer to it by the short name `np` rather than the longer name `numpy`.\n",
        "Names like this are case-sensitive, which means that `numpy` is not the same as `NumPy`.\n",
        "So even though the name of the library is NumPy, when we import it we have to call it `numpy`.  "
      ]
    },
    {
      "cell_type": "code",
      "execution_count": null,
      "metadata": {
        "tags": [
          "raises-exception"
        ],
        "id": "yxSxWoWj9SoR"
      },
      "outputs": [],
      "source": [
        "%%expect ModuleNotFoundError\n",
        "\n",
        "import NumPy as np"
      ]
    },
    {
      "cell_type": "markdown",
      "metadata": {
        "id": "HUSBsF0q9SoS"
      },
      "source": [
        "This error message might be confusing if you don't pay attention to the difference between uppercase and lowercase.\n",
        "But assuming we import `np` correctly, we can use it to read the value `pi`, which represents the mathematical constant $\\pi$."
      ]
    },
    {
      "cell_type": "code",
      "execution_count": null,
      "metadata": {
        "id": "KAwwLQF69SoS"
      },
      "outputs": [],
      "source": [
        "np.pi"
      ]
    },
    {
      "cell_type": "markdown",
      "metadata": {
        "id": "r-Hz1R6x9SoS"
      },
      "source": [
        "The result is a `float` with 16 digits.  As you might know, we can't represent $\\pi$ with a finite number of digits, so this result is only approximate.\n",
        "\n",
        "NumPy provides `log`, which computes the natural logarithm"
      ]
    },
    {
      "cell_type": "code",
      "execution_count": null,
      "metadata": {
        "id": "V6Duo2aP9Sog"
      },
      "outputs": [],
      "source": [
        "np.log(100)"
      ]
    },
    {
      "cell_type": "markdown",
      "metadata": {
        "id": "LPAm8Wtr9Sog"
      },
      "source": [
        "NumPy also provides `exp`, which raises the constant `e` to a power."
      ]
    },
    {
      "cell_type": "code",
      "execution_count": null,
      "metadata": {
        "id": "1cxRNC9O9Sog"
      },
      "outputs": [],
      "source": [
        "np.exp(1)"
      ]
    },
    {
      "cell_type": "markdown",
      "metadata": {
        "id": "s1trBxtN9Sog"
      },
      "source": [
        "**Exercise:** Use these functions to check the identity $\\log(e^x) = x$.\n",
        "Mathematically, it is true for any value of $x$.\n",
        "With floating-point values, it only holds for values of $x$ between -700 and 700.\n",
        "What happens when you try it with larger and smaller values?"
      ]
    },
    {
      "cell_type": "code",
      "execution_count": null,
      "metadata": {
        "id": "8b3YWiBG9Soh"
      },
      "outputs": [],
      "source": [
        "# Solution goes here"
      ]
    },
    {
      "cell_type": "markdown",
      "metadata": {
        "id": "K0-UzvJQ9Soh"
      },
      "source": [
        "Floating-point numbers are finite approximations, which means they don't always behave like math.\n",
        "As another example, let's see what happens if we add up `0.1` three times:"
      ]
    },
    {
      "cell_type": "code",
      "execution_count": null,
      "metadata": {
        "id": "kic6IpiM9Soh"
      },
      "outputs": [],
      "source": [
        "0.1 + 0.1 + 0.1"
      ]
    },
    {
      "cell_type": "markdown",
      "metadata": {
        "id": "c_CogfFE9Soi"
      },
      "source": [
        "The result is close to `0.3`, but not exact.\n",
        "When you work with floating-point numbers, remember that they are only approximately correct."
      ]
    },
    {
      "cell_type": "markdown",
      "metadata": {
        "id": "lYTt9sL_9Soi"
      },
      "source": [
        "## Variables\n",
        "\n",
        "A **variable** is a name that refers to a value.\n",
        "The following statement assigns the value `5` to a variable named `x`:"
      ]
    },
    {
      "cell_type": "code",
      "execution_count": null,
      "metadata": {
        "id": "WHuZ76Jc9Soi"
      },
      "outputs": [],
      "source": [
        "x = 5"
      ]
    },
    {
      "cell_type": "markdown",
      "metadata": {
        "id": "B5_g_LuH9Sok"
      },
      "source": [
        "The variable we just created has the name `x` and the value `5`."
      ]
    },
    {
      "cell_type": "markdown",
      "metadata": {
        "tags": [],
        "id": "ipLSatJD9Sok"
      },
      "source": [
        "If a variable name appears at the end of a cell, Jupyter displays its value."
      ]
    },
    {
      "cell_type": "code",
      "execution_count": null,
      "metadata": {
        "tags": [],
        "id": "fqlPlVwL9Sok"
      },
      "outputs": [],
      "source": [
        "x"
      ]
    },
    {
      "cell_type": "markdown",
      "metadata": {
        "id": "wKo4DwwI9Sol"
      },
      "source": [
        "If we use `x` as part of an arithmetic operation, it represents the value `5`:"
      ]
    },
    {
      "cell_type": "code",
      "execution_count": null,
      "metadata": {
        "id": "H6BclF9L9Som"
      },
      "outputs": [],
      "source": [
        "x + 1"
      ]
    },
    {
      "cell_type": "code",
      "execution_count": null,
      "metadata": {
        "id": "qXy37lmB9Son"
      },
      "outputs": [],
      "source": [
        "x ** 2"
      ]
    },
    {
      "cell_type": "markdown",
      "metadata": {
        "id": "MpR5riBb9Son"
      },
      "source": [
        "We can also use a variable when we call a function:"
      ]
    },
    {
      "cell_type": "code",
      "execution_count": null,
      "metadata": {
        "id": "3XblKD-d9Son"
      },
      "outputs": [],
      "source": [
        "np.exp(x)"
      ]
    },
    {
      "cell_type": "markdown",
      "metadata": {
        "id": "h1MOO4jl9Soo"
      },
      "source": [
        "Notice that the result from `exp` is a `float`, even though the value of `x` is an `int`."
      ]
    },
    {
      "cell_type": "markdown",
      "metadata": {
        "id": "8sJ_FbTJ9Soo"
      },
      "source": [
        "**Exercise:** If you have not programmed before, one of the things you have to get used to is that programming languages are picky about details. Natural languages, like English, and semi-formal languages, like math notation, are more forgiving.\n",
        "\n",
        "As an example, in math notation, parentheses and square brackets mean the same thing, you can write $\\sin (\\omega t)$ or $\\sin [\\omega t]$ -- either one is fine. And you can leave out the parentheses altogether, as long as the meaning is clear, as in $\\sin \\omega t$.\n",
        "In Python, every character counts. For example, the following are all different, and only the first one works:\n",
        "\n",
        "```\n",
        "np.exp(x)\n",
        "np.Exp(x)\n",
        "np.exp[x]\n",
        "np.exp x\n",
        "```\n",
        "\n",
        "While you are learning, I encourage you to make mistakes on purpose to see what goes wrong.  Read the error messages carefully.  Sometimes they are helpful and tell you exactly what's wrong.  Other times they can be misleading.  But if you have seen the message before, you might remember some likely causes."
      ]
    },
    {
      "cell_type": "markdown",
      "metadata": {
        "tags": [],
        "id": "H-LE6XxO9Sop"
      },
      "source": [
        "In the next cell, try out the different versions of `np.exp(x)` above, and see what error messages you get."
      ]
    },
    {
      "cell_type": "code",
      "execution_count": null,
      "metadata": {
        "tags": [],
        "id": "91jgHdnp9Sop"
      },
      "outputs": [],
      "source": [
        "np.exp(x)"
      ]
    },
    {
      "cell_type": "markdown",
      "metadata": {
        "id": "YoFAgX1L9Sop"
      },
      "source": [
        "**Exercise:** The NumPy function that computes square roots is `sqrt`.\n",
        "Use it to compute a floating-point approximation of the golden ratio,\n",
        "$\\phi = \\frac{1}{2}(1 + \\sqrt{5})$. Hint: The result should be close to `1.618`."
      ]
    },
    {
      "cell_type": "code",
      "execution_count": null,
      "metadata": {
        "id": "xmf8cWGK9Sop"
      },
      "outputs": [],
      "source": [
        "# Solution goes here"
      ]
    },
    {
      "cell_type": "markdown",
      "metadata": {
        "tags": [],
        "id": "bluUI8B69Soq"
      },
      "source": [
        "## Save your work\n",
        "\n",
        "If you are running on Colab and you want to save your work, now is a good time to press the \"Copy to Drive\" button (near the upper left), which saves a copy of this notebook in your Google Drive.\n",
        "\n",
        "If you want to change the name of the file, you can click on the name in the upper left.\n",
        "If you don't use Google Drive, look under the File menu to see other options.\n",
        "\n",
        "Once you make a copy, any additional changes you make will be saved automatically, so now you can continue without worrying about losing your work."
      ]
    },
    {
      "cell_type": "markdown",
      "metadata": {
        "id": "2q1I-EY99Soq"
      },
      "source": [
        "## Calculating with Variables\n",
        "\n",
        "Now we'll use variables to solve a problem involving compound interest.\n",
        "It might not be the most exciting example, but it uses everything we have done so far, and it reviews exponentiation and logarithms, which we are going to need.\n",
        "\n",
        "If we invest an amount of money, $P$, in an account that earns compounded interest, the total accumulated value, $V$, after an interval of time, $t$, is:\n",
        "\n",
        "$V=P\\left(1+{\\frac {r}{n}}\\right)^{nt}$\n",
        "\n",
        "where $r$ is the annual interest rate and $n$ is the compounding frequency.\n",
        "For example, if you deposit \\$2,100 in a bank paying an annual interest rate of 3.4\\% compounded four times a year, we can compute the balance after 7 years by defining these variables:"
      ]
    },
    {
      "cell_type": "code",
      "execution_count": null,
      "metadata": {
        "id": "-jHEnh5H9Soq"
      },
      "outputs": [],
      "source": [
        "P = 2100\n",
        "r = 0.034\n",
        "n = 4\n",
        "t = 7"
      ]
    },
    {
      "cell_type": "markdown",
      "metadata": {
        "id": "-Jdl5kj79Sor"
      },
      "source": [
        "And computing the total accumulated value like this."
      ]
    },
    {
      "cell_type": "code",
      "execution_count": null,
      "metadata": {
        "id": "WyZmv3lK9Sor"
      },
      "outputs": [],
      "source": [
        "P * (1 + r/n)**(n*t)"
      ]
    },
    {
      "cell_type": "markdown",
      "metadata": {
        "id": "DGSq_i2A9Sor"
      },
      "source": [
        "**Exercise:** Continuing the previous example, suppose you start with the same principle and the same interest rate, but interest is compounded twice per year, so `n = 2`.\n",
        "What would the total value be after 7 years?  Hint: we expect the answer to be a bit less than the previous answer."
      ]
    },
    {
      "cell_type": "code",
      "execution_count": null,
      "metadata": {
        "id": "mN-Rgjus9Sor"
      },
      "outputs": [],
      "source": [
        "# Solution goes here"
      ]
    },
    {
      "cell_type": "markdown",
      "metadata": {
        "id": "STfoc3Qq9Sor"
      },
      "source": [
        "**Exercise:** If interest is compounded continuously, the value after time $t$ is $V=P~e^{rt}$. Translate this equation into Python and use it compute the value of the investment in the previous example with continuous compounding.  Hint: we expect the answer to be a bit more than the previous answers."
      ]
    },
    {
      "cell_type": "code",
      "execution_count": null,
      "metadata": {
        "id": "ET2XBIPM9Sos"
      },
      "outputs": [],
      "source": [
        "# Solution goes here"
      ]
    },
    {
      "cell_type": "markdown",
      "metadata": {
        "tags": [],
        "id": "cTWfe1_V9Sos"
      },
      "source": [
        "**Exercise** If we solve the previous equation for $r$, we get $r = \\log(V/P)~/~t$,\n",
        "where $\\log$ is the logarithm base $e$, also known as the natural logarithm.\n",
        "\n",
        "Harvard's tuition in 1970 was \\\\$4,070 (not including room, board, and fees).\n",
        "In 2019 it was \\\\$46,340.\n",
        "What was the annual rate of increase over that period, treating it as if it had compounded continuously?\"\n",
        "For comparison, the average annual rate of inflation over the same period, based on the consumer price index (CPI) was 3.84%."
      ]
    },
    {
      "cell_type": "code",
      "execution_count": null,
      "metadata": {
        "tags": [],
        "id": "qernpiuo9Sos"
      },
      "outputs": [],
      "source": [
        "# Solution goes here"
      ]
    },
    {
      "cell_type": "markdown",
      "metadata": {
        "id": "TfnZkQ_T9Sos"
      },
      "source": [
        "## Summary\n",
        "\n",
        "This chapter introduces variables, which are names that refer to values, and two kinds of values, integers and floating-point numbers.\n",
        "\n",
        "It presents mathematical operators, like `+` for addition and `*` for multiplication, and mathematical functions like `log` for logarithms and `exp` for raising `e` to a power.\n",
        "\n",
        "In the next chapter, we'll see additional data types for representing letters and words, dates and times, and latitude and longitude."
      ]
    },
    {
      "cell_type": "markdown",
      "metadata": {
        "collapsed": true,
        "tags": [],
        "id": "9mDkIgBT9Sot"
      },
      "source": [
        "## A little more Jupyter\n",
        "\n",
        "Here are a few tips on using Jupyter to compute and display values.\n",
        "\n",
        "Generally, if there is a single expression in a cell, Jupyter computes the value of the expression and displays the result.\n",
        "For example, we've already seen how to display the value of `np.pi`:"
      ]
    },
    {
      "cell_type": "code",
      "execution_count": null,
      "metadata": {
        "tags": [],
        "id": "lUBxtMTO9Sot"
      },
      "outputs": [],
      "source": [
        "np.pi"
      ]
    },
    {
      "cell_type": "markdown",
      "metadata": {
        "tags": [],
        "id": "ytLw8JoP9Sou"
      },
      "source": [
        "Here's a more complex example with functions, operators, and numbers:"
      ]
    },
    {
      "cell_type": "code",
      "execution_count": null,
      "metadata": {
        "tags": [],
        "id": "eQNqDIW59Sou"
      },
      "outputs": [],
      "source": [
        "1 / np.sqrt(2 * np.pi) * np.exp(-3**2 / 2)"
      ]
    },
    {
      "cell_type": "markdown",
      "metadata": {
        "tags": [],
        "id": "7RQ40BC69Sou"
      },
      "source": [
        "If you put more than one expression in a cell, Jupyter computes them all, but it only display the result from the last:"
      ]
    },
    {
      "cell_type": "code",
      "execution_count": null,
      "metadata": {
        "tags": [],
        "id": "Vir_9F7G9Sov"
      },
      "outputs": [],
      "source": [
        "1\n",
        "2 + 3\n",
        "np.exp(1)\n",
        "(1 + np.sqrt(5)) / 2"
      ]
    },
    {
      "cell_type": "markdown",
      "metadata": {
        "tags": [],
        "id": "wtCSfVzm9Sov"
      },
      "source": [
        "If you want to display more than one value, you can separate them with commas:"
      ]
    },
    {
      "cell_type": "code",
      "execution_count": null,
      "metadata": {
        "tags": [],
        "id": "2Ub7mJ889Sov"
      },
      "outputs": [],
      "source": [
        "1, 2 + 3, np.exp(1), (1 + np.sqrt(5)) / 2"
      ]
    },
    {
      "cell_type": "markdown",
      "metadata": {
        "tags": [],
        "id": "nnQ2MUxG9Sov"
      },
      "source": [
        "That result is actually a tuple, which you will learn about in the next chapter.\n",
        "\n",
        "Here's one last Jupyter tip: when you assign a value to variable, Jupyter does not display the value:"
      ]
    },
    {
      "cell_type": "code",
      "execution_count": null,
      "metadata": {
        "tags": [],
        "id": "n0y2D_6v9Sov"
      },
      "outputs": [],
      "source": [
        "phi = (1 + np.sqrt(5)) / 2"
      ]
    },
    {
      "cell_type": "markdown",
      "metadata": {
        "tags": [],
        "id": "NdEQhr-49Sow"
      },
      "source": [
        "So it is idiomatic to assign a value to a variable and immediately display the result:"
      ]
    },
    {
      "cell_type": "code",
      "execution_count": null,
      "metadata": {
        "tags": [],
        "id": "zdGdGiC_9Sow"
      },
      "outputs": [],
      "source": [
        "phi = (1 + np.sqrt(5)) / 2\n",
        "phi"
      ]
    },
    {
      "cell_type": "markdown",
      "metadata": {
        "tags": [],
        "id": "Wmh-tYfO9Sow"
      },
      "source": [
        "**Exercise:** Display the value of $\\phi$ and its inverse, $1/\\phi$, on a single line. Do you notice anything about the relationship between the values?"
      ]
    },
    {
      "cell_type": "code",
      "execution_count": null,
      "metadata": {
        "tags": [],
        "id": "GiO-oQ9R9Sow"
      },
      "outputs": [],
      "source": [
        "# Solution goes here"
      ]
    },
    {
      "cell_type": "markdown",
      "metadata": {
        "tags": [],
        "id": "57G-8Bp79So3"
      },
      "source": [
        "*Elements of Data Science*\n",
        "\n",
        "Copyright 2021 [Allen B. Downey](https://allendowney.com)\n",
        "\n",
        "License: [Creative Commons Attribution-NonCommercial-ShareAlike 4.0 International](https://creativecommons.org/licenses/by-nc-sa/4.0/)"
      ]
    },
    {
      "cell_type": "code",
      "execution_count": null,
      "metadata": {
        "id": "T72Bxc9G9So3"
      },
      "outputs": [],
      "source": []
    }
  ],
  "metadata": {
    "celltoolbar": "Tags",
    "kernelspec": {
      "display_name": "Python 3 (ipykernel)",
      "language": "python",
      "name": "python3"
    },
    "language_info": {
      "codemirror_mode": {
        "name": "ipython",
        "version": 3
      },
      "file_extension": ".py",
      "mimetype": "text/x-python",
      "name": "python",
      "nbconvert_exporter": "python",
      "pygments_lexer": "ipython3",
      "version": "3.10.14"
    },
    "colab": {
      "provenance": [],
      "include_colab_link": true
    }
  },
  "nbformat": 4,
  "nbformat_minor": 0
}